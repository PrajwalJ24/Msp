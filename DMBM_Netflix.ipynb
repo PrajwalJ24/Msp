{
  "nbformat": 4,
  "nbformat_minor": 0,
  "metadata": {
    "colab": {
      "provenance": []
    },
    "kernelspec": {
      "name": "python3",
      "display_name": "Python 3"
    },
    "language_info": {
      "name": "python"
    }
  },
  "cells": [
    {
      "cell_type": "code",
      "source": [
        "from google.colab import drive\n",
        "drive.mount('/content/drive')"
      ],
      "metadata": {
        "id": "MNTwfEf9ezFu"
      },
      "execution_count": null,
      "outputs": []
    },
    {
      "cell_type": "code",
      "source": [
        "import pandas as pd\n",
        "\n",
        "file_path = '/content/drive/My Drive/SDMIMD/DMBD/Project/Netflix.xlsx'\n",
        "df = pd.read_excel(file_path)"
      ],
      "metadata": {
        "id": "H097BrwXfC1o"
      },
      "execution_count": null,
      "outputs": []
    },
    {
      "cell_type": "code",
      "source": [
        "print(df)"
      ],
      "metadata": {
        "id": "NX13qxhMeTlO",
        "colab": {
          "base_uri": "https://localhost:8080/"
        },
        "outputId": "7adc9c40-737f-427d-a624-b2a9ce919df7"
      },
      "execution_count": null,
      "outputs": [
        {
          "output_type": "stream",
          "name": "stdout",
          "text": [
            "     User_Id Subscription_Type  Monthly_Revenue         Country  Age  Gender  \\\n",
            "0          1             Basic               10   United States   28    Male   \n",
            "1          2           Premium               12          Canada   35  Female   \n",
            "2          3          Standard               15  United Kingdom   42     NaN   \n",
            "3          4          Standard               15       Australia   51     NaN   \n",
            "4          5             Basic               10         Germany   33     NaN   \n",
            "..       ...               ...              ...             ...  ...     ...   \n",
            "96        97             Basic               10          Brazil   29  Female   \n",
            "97        98          Standard               15          Mexico   31  Female   \n",
            "98        99          Standard               15           Spain   29  Female   \n",
            "99       100             Basic               10           Italy   35    Male   \n",
            "100      101           Premium               12   United States   46  Female   \n",
            "\n",
            "         Device  Plan_Duration  \n",
            "0    Smartphone              1  \n",
            "1        Tablet              1  \n",
            "2      Smart TV              1  \n",
            "3        Laptop              1  \n",
            "4    Smartphone              1  \n",
            "..          ...            ...  \n",
            "96       Tablet              1  \n",
            "97       Tablet              1  \n",
            "98       Tablet              1  \n",
            "99       Laptop              1  \n",
            "100      Tablet              1  \n",
            "\n",
            "[101 rows x 8 columns]\n"
          ]
        }
      ]
    },
    {
      "cell_type": "code",
      "execution_count": null,
      "metadata": {
        "id": "Cp5X7d7seaOb",
        "colab": {
          "base_uri": "https://localhost:8080/"
        },
        "outputId": "38151001-7734-44bb-9fa3-bea4f2388a62"
      },
      "outputs": [
        {
          "output_type": "execute_result",
          "data": {
            "text/plain": [
              "<sqlite3.Cursor at 0x7c9c0d220940>"
            ]
          },
          "metadata": {},
          "execution_count": 4
        }
      ],
      "source": [
        "import sqlite3\n",
        "\n",
        "conn = sqlite3.connect('DMBD.db')\n",
        "conn.execute('PRAGMA foreign_keys = 1')"
      ]
    },
    {
      "cell_type": "markdown",
      "source": [
        "### **Table Creation (DDL) and Insertion (DML)**\n",
        "\n",
        "---\n",
        "\n",
        "\n",
        "\n",
        "\n",
        "\n",
        "\n"
      ],
      "metadata": {
        "id": "flCHxezog-wJ"
      }
    },
    {
      "cell_type": "code",
      "source": [
        "create_table_query = \"\"\"\n",
        "CREATE TABLE user (\n",
        "    User_Id int Primary key,\n",
        "    Country char,\n",
        "    Age int,\n",
        "    Gender char,\n",
        "    Device char\n",
        ")\n",
        "\"\"\"\n",
        "conn.execute(create_table_query)\n",
        "#User_Id\tSubscription_Type\tMonthly_Revenue\tCountry\tAge\tGender\tDevice\tPlan_Duration"
      ],
      "metadata": {
        "id": "nRX9d0gChIoK",
        "colab": {
          "base_uri": "https://localhost:8080/"
        },
        "outputId": "3e1001e0-89a1-4e46-8541-41683b5ec323"
      },
      "execution_count": null,
      "outputs": [
        {
          "output_type": "execute_result",
          "data": {
            "text/plain": [
              "<sqlite3.Cursor at 0x7c9c578ebf40>"
            ]
          },
          "metadata": {},
          "execution_count": 5
        }
      ]
    },
    {
      "cell_type": "code",
      "source": [
        "columns_to_insert = ['User_Id',\t'Country',\t'Age',\t'Gender',\t'Device']\n",
        "df_filtered = df[columns_to_insert]\n",
        "print(df_filtered)"
      ],
      "metadata": {
        "id": "a_K3TE_bqpE0",
        "colab": {
          "base_uri": "https://localhost:8080/"
        },
        "outputId": "3bad5708-c4c2-4ce6-b010-3f65738a1519"
      },
      "execution_count": null,
      "outputs": [
        {
          "output_type": "stream",
          "name": "stdout",
          "text": [
            "     User_Id         Country  Age  Gender      Device\n",
            "0          1   United States   28    Male  Smartphone\n",
            "1          2          Canada   35  Female      Tablet\n",
            "2          3  United Kingdom   42     NaN    Smart TV\n",
            "3          4       Australia   51     NaN      Laptop\n",
            "4          5         Germany   33     NaN  Smartphone\n",
            "..       ...             ...  ...     ...         ...\n",
            "96        97          Brazil   29  Female      Tablet\n",
            "97        98          Mexico   31  Female      Tablet\n",
            "98        99           Spain   29  Female      Tablet\n",
            "99       100           Italy   35    Male      Laptop\n",
            "100      101   United States   46  Female      Tablet\n",
            "\n",
            "[101 rows x 5 columns]\n"
          ]
        }
      ]
    },
    {
      "cell_type": "code",
      "source": [
        "df_filtered.to_sql('user', conn, if_exists='append', index=False)"
      ],
      "metadata": {
        "id": "AsUXXl4_oREZ",
        "colab": {
          "base_uri": "https://localhost:8080/"
        },
        "outputId": "a6a36959-4fd3-41b2-8d67-a0250b496c2a"
      },
      "execution_count": null,
      "outputs": [
        {
          "output_type": "execute_result",
          "data": {
            "text/plain": [
              "101"
            ]
          },
          "metadata": {},
          "execution_count": 7
        }
      ]
    },
    {
      "cell_type": "code",
      "source": [
        "columns_to_insert = ['User_Id', 'Subscription_Type', 'Plan_Duration']\n",
        "df_filtered = df[columns_to_insert]\n",
        "\n",
        "starting_subscription_id = 1\n",
        "subscription_ids = list(range(starting_subscription_id, starting_subscription_id + len(df_filtered)))\n",
        "\n",
        "data = {'Subscription_Id': subscription_ids, 'UserId': df_filtered['User_Id'], 'Subscription_Type': df_filtered['Subscription_Type'], 'Plan_Duration': df_filtered['Plan_Duration']}\n",
        "df_with_subscription = pd.DataFrame(data)\n",
        "\n",
        "create_table_query = \"\"\"\n",
        "CREATE TABLE subscription  (\n",
        "    Subscription_Id INTEGER PRIMARY KEY,\n",
        "    UserId INTEGER,\n",
        "    Subscription_Type CHAR,\n",
        "    Plan_Duration INTEGER,\n",
        "    FOREIGN KEY (UserId) REFERENCES user(User_Id)\n",
        ")\n",
        "\"\"\"\n",
        "conn.execute(create_table_query)\n",
        "\n",
        "df_with_subscription.to_sql('subscription', conn, if_exists='append', index=False)"
      ],
      "metadata": {
        "colab": {
          "base_uri": "https://localhost:8080/"
        },
        "id": "BaGz-P2j2qXL",
        "outputId": "6a004d51-3257-4d00-fa86-a257098c9473"
      },
      "execution_count": null,
      "outputs": [
        {
          "output_type": "execute_result",
          "data": {
            "text/plain": [
              "101"
            ]
          },
          "metadata": {},
          "execution_count": 8
        }
      ]
    },
    {
      "cell_type": "code",
      "source": [
        "columns_to_insert = ['User_Id', 'Monthly_Revenue']\n",
        "df2_filtered = df[columns_to_insert]\n",
        "\n",
        "starting_revenue_id = 1\n",
        "revenue_ids = list(range(starting_revenue_id, starting_revenue_id + len(df_filtered)))\n",
        "\n",
        "data = {'Revenue_Id': revenue_ids, 'UserId': df2_filtered['User_Id'], 'Monthly_Revenue': df2_filtered['Monthly_Revenue']}\n",
        "df_with_revenue = pd.DataFrame(data)\n",
        "\n",
        "create_table_query = \"\"\"\n",
        "CREATE TABLE revenue  (\n",
        "    Revenue_Id INTEGER PRIMARY KEY,\n",
        "    UserId INTEGER,\n",
        "    Monthly_Revenue INTEGER,\n",
        "    FOREIGN KEY (UserId) REFERENCES user(User_Id)\n",
        ")\n",
        "\"\"\"\n",
        "conn.execute(create_table_query)\n",
        "\n",
        "df_with_revenue.to_sql('revenue', conn, if_exists='append', index=False)"
      ],
      "metadata": {
        "colab": {
          "base_uri": "https://localhost:8080/"
        },
        "id": "s4O9C3AZRE3N",
        "outputId": "c5ebdfc5-bae2-4e66-c569-dd6a411af52c"
      },
      "execution_count": null,
      "outputs": [
        {
          "output_type": "execute_result",
          "data": {
            "text/plain": [
              "101"
            ]
          },
          "metadata": {},
          "execution_count": 9
        }
      ]
    },
    {
      "cell_type": "code",
      "source": [
        "columns_to_insert = ['User_Id', 'Age']\n",
        "df3_filtered = df[columns_to_insert]\n",
        "\n",
        "starting_demographics_id = 1\n",
        "demographics_ids = list(range(starting_demographics_id, starting_demographics_id + len(df_filtered)))\n",
        "\n",
        "data = {'Demographics_Id': demographics_ids, 'UserId': df3_filtered['User_Id'], 'Age_Group': df3_filtered['Age']}\n",
        "df_with_demographics = pd.DataFrame(data)\n",
        "\n",
        "create_table_query = \"\"\"\n",
        "CREATE TABLE demographics   (\n",
        "    Demographics_Id INTEGER PRIMARY KEY,\n",
        "    UserId INTEGER,\n",
        "    Age_Group INTEGER,\n",
        "    FOREIGN KEY (UserId) REFERENCES user(User_Id)\n",
        ")\n",
        "\"\"\"\n",
        "conn.execute(create_table_query)\n",
        "df_with_demographics.to_sql('demographics', conn, if_exists='append', index=False)"
      ],
      "metadata": {
        "colab": {
          "base_uri": "https://localhost:8080/"
        },
        "id": "Svq3kY-24ejB",
        "outputId": "726ddb24-bbb3-4e52-c92c-7b46a4c3cecf"
      },
      "execution_count": null,
      "outputs": [
        {
          "output_type": "execute_result",
          "data": {
            "text/plain": [
              "101"
            ]
          },
          "metadata": {},
          "execution_count": 10
        }
      ]
    },
    {
      "cell_type": "code",
      "source": [
        "columns_to_insert = ['User_Id', 'Gender']\n",
        "df4_filtered = df[columns_to_insert]\n",
        "\n",
        "starting_gender_id = 1\n",
        "gender_ids = list(range(starting_gender_id, starting_gender_id + len(df_filtered)))\n",
        "\n",
        "data = {'Gender_Id': gender_ids, 'UserId': df4_filtered['User_Id'], 'Gender': df4_filtered['Gender']}\n",
        "df_with_gender = pd.DataFrame(data)\n",
        "\n",
        "create_table_query = \"\"\"\n",
        "CREATE TABLE gender (\n",
        "    Gender_Id INTEGER PRIMARY KEY,\n",
        "    UserId INTEGER,\n",
        "    Gender VARCHAR(255),\n",
        "    FOREIGN KEY (UserId) REFERENCES user(User_Id)\n",
        ")\n",
        "\"\"\"\n",
        "conn.execute(create_table_query)\n",
        "\n",
        "df_with_gender.to_sql('gender', conn, if_exists='append', index=False)"
      ],
      "metadata": {
        "colab": {
          "base_uri": "https://localhost:8080/"
        },
        "id": "nWkvsE_w5iBs",
        "outputId": "9aef9e0f-c084-444a-9e73-c7e50e3c4683"
      },
      "execution_count": null,
      "outputs": [
        {
          "output_type": "execute_result",
          "data": {
            "text/plain": [
              "101"
            ]
          },
          "metadata": {},
          "execution_count": 11
        }
      ]
    },
    {
      "cell_type": "code",
      "source": [
        "columns_to_insert = ['User_Id', 'Device']\n",
        "df5_filtered = df[columns_to_insert]\n",
        "\n",
        "starting_device_id = 1\n",
        "device_ids = list(range(starting_device_id, starting_device_id + len(df_filtered)))\n",
        "\n",
        "data = {'Device_Id': device_ids, 'UserId': df5_filtered['User_Id'], 'Device': df5_filtered['Device']}\n",
        "df_with_device = pd.DataFrame(data)\n",
        "\n",
        "create_table_query = \"\"\"\n",
        "CREATE TABLE device (\n",
        "    Device_Id INTEGER PRIMARY KEY,\n",
        "    UserId INTEGER,\n",
        "    Device VARCHAR(255),\n",
        "    FOREIGN KEY (UserId) REFERENCES user(User_Id)\n",
        ")\n",
        "\"\"\"\n",
        "conn.execute(create_table_query)\n",
        "\n",
        "df_with_device.to_sql('device', conn, if_exists='append', index=False)"
      ],
      "metadata": {
        "colab": {
          "base_uri": "https://localhost:8080/"
        },
        "id": "gQIosRzG51Fu",
        "outputId": "29e3e68d-9438-4d33-a49c-cd714eb1720d"
      },
      "execution_count": null,
      "outputs": [
        {
          "output_type": "execute_result",
          "data": {
            "text/plain": [
              "101"
            ]
          },
          "metadata": {},
          "execution_count": 12
        }
      ]
    },
    {
      "cell_type": "code",
      "source": [
        "columns_to_insert = ['User_Id', 'Country']\n",
        "df6_filtered = df[columns_to_insert]\n",
        "\n",
        "starting_country_id = 1\n",
        "country_ids = list(range(starting_country_id, starting_country_id + len(df_filtered)))\n",
        "\n",
        "data = {'Country_Id': country_ids, 'UserId': df6_filtered['User_Id'], 'Country': df6_filtered['Country']}\n",
        "df_with_country = pd.DataFrame(data)\n",
        "\n",
        "create_table_query = \"\"\"\n",
        "CREATE TABLE country (\n",
        "    Country_Id INTEGER PRIMARY KEY,\n",
        "    UserId INTEGER,\n",
        "    Country VARCHAR(255),\n",
        "    FOREIGN KEY (UserId) REFERENCES user(User_Id)\n",
        ")\n",
        "\"\"\"\n",
        "conn.execute(create_table_query)\n",
        "\n",
        "df_with_country.to_sql('country', conn, if_exists='append', index=False)"
      ],
      "metadata": {
        "colab": {
          "base_uri": "https://localhost:8080/"
        },
        "id": "PSLjpH_I6JkQ",
        "outputId": "1c59f23a-30da-4089-d945-df44b3b87e92"
      },
      "execution_count": null,
      "outputs": [
        {
          "output_type": "execute_result",
          "data": {
            "text/plain": [
              "101"
            ]
          },
          "metadata": {},
          "execution_count": 13
        }
      ]
    },
    {
      "cell_type": "markdown",
      "source": [
        "### **Queries**\n",
        "\n",
        "---\n",
        "\n"
      ],
      "metadata": {
        "id": "sNd44r_whISQ"
      }
    },
    {
      "cell_type": "code",
      "source": [
        "query = \"SELECT * FROM subscription\"\n",
        "\n",
        "result = conn.execute(query).fetchall()\n",
        "\n",
        "column_names = [column[1] for column in conn.execute('PRAGMA table_info(subscription)').fetchall()]\n",
        "\n",
        "df = pd.DataFrame(result, columns=column_names)\n",
        "\n",
        "print(df.to_string(index=False))"
      ],
      "metadata": {
        "id": "QfJ-K39tmWj6",
        "colab": {
          "base_uri": "https://localhost:8080/"
        },
        "outputId": "31df963f-2ac5-488c-9007-ce0a6e603a22"
      },
      "execution_count": null,
      "outputs": [
        {
          "output_type": "stream",
          "name": "stdout",
          "text": [
            " Subscription_Id  UserId Subscription_Type  Plan_Duration\n",
            "               1       1             Basic              1\n",
            "               2       2           Premium              1\n",
            "               3       3          Standard              1\n",
            "               4       4          Standard              1\n",
            "               5       5             Basic              1\n",
            "               6       6           Premium              1\n",
            "               7       7          Standard              1\n",
            "               8       8             Basic              1\n",
            "               9       9          Standard              1\n",
            "              10      10           Premium              1\n",
            "              11      11             Basic              1\n",
            "              12      12           Premium              1\n",
            "              13      13          Standard              1\n",
            "              14      14             Basic              1\n",
            "              15      15          Standard              1\n",
            "              16      16           Premium              1\n",
            "              17      17             Basic              1\n",
            "              18      18          Standard              1\n",
            "              19      19           Premium              1\n",
            "              20      20             Basic              1\n",
            "              21      21           Premium              1\n",
            "              22      22             Basic              1\n",
            "              23      23          Standard              1\n",
            "              24      24          Standard              1\n",
            "              25      25             Basic              1\n",
            "              26      26           Premium              1\n",
            "              27      27             Basic              1\n",
            "              28      28          Standard              1\n",
            "              29      29           Premium              1\n",
            "              30      30             Basic              1\n",
            "              31      31           Premium              1\n",
            "              32      32             Basic              1\n",
            "              33      33          Standard              1\n",
            "              34      34          Standard              1\n",
            "              35      35             Basic              1\n",
            "              36      36           Premium              1\n",
            "              37      37             Basic              1\n",
            "              38      38          Standard              1\n",
            "              39      39           Premium              1\n",
            "              40      40             Basic              1\n",
            "              41      41           Premium              1\n",
            "              42      42             Basic              1\n",
            "              43      43          Standard              1\n",
            "              44      44          Standard              1\n",
            "              45      45             Basic              1\n",
            "              46      46           Premium              1\n",
            "              47      47             Basic              1\n",
            "              48      48          Standard              1\n",
            "              49      49           Premium              1\n",
            "              50      50             Basic              1\n",
            "              51      51           Premium              1\n",
            "              52      52             Basic              1\n",
            "              53      53          Standard              1\n",
            "              54      54          Standard              1\n",
            "              55      55             Basic              1\n",
            "              56      56           Premium              1\n",
            "              57      57             Basic              1\n",
            "              58      58          Standard              1\n",
            "              59      59           Premium              1\n",
            "              60      60             Basic              1\n",
            "              61      61           Premium              1\n",
            "              62      62             Basic              1\n",
            "              63      63          Standard              1\n",
            "              64      64          Standard              1\n",
            "              65      65             Basic              1\n",
            "              66      66           Premium              1\n",
            "              67      67             Basic              1\n",
            "              68      68          Standard              1\n",
            "              69      69           Premium              1\n",
            "              70      70             Basic              1\n",
            "              71      71             Basic              1\n",
            "              72      72             Basic              1\n",
            "              73      73          Standard              1\n",
            "              74      74           Premium              1\n",
            "              75      75             Basic              1\n",
            "              76      76             Basic              1\n",
            "              77      77           Premium              1\n",
            "              78      78          Standard              1\n",
            "              79      79          Standard              1\n",
            "              80      80             Basic              1\n",
            "              81      81           Premium              1\n",
            "              82      82          Standard              1\n",
            "              83      83             Basic              1\n",
            "              84      84          Standard              1\n",
            "              85      85           Premium              1\n",
            "              86      86             Basic              1\n",
            "              87      87           Premium              1\n",
            "              88      88          Standard              1\n",
            "              89      89             Basic              1\n",
            "              90      90          Standard              1\n",
            "              91      91           Premium              1\n",
            "              92      92             Basic              1\n",
            "              93      93          Standard              1\n",
            "              94      94           Premium              1\n",
            "              95      95             Basic              1\n",
            "              96      96           Premium              1\n",
            "              97      97             Basic              1\n",
            "              98      98          Standard              1\n",
            "              99      99          Standard              1\n",
            "             100     100             Basic              1\n",
            "             101     101           Premium              1\n"
          ]
        }
      ]
    },
    {
      "cell_type": "code",
      "source": [
        "query = \"SELECT * FROM revenue\"\n",
        "\n",
        "result = conn.execute(query).fetchall()\n",
        "\n",
        "column_names = [column[1] for column in conn.execute('PRAGMA table_info(revenue)').fetchall()]\n",
        "\n",
        "df = pd.DataFrame(result, columns=column_names)\n",
        "\n",
        "print(df.to_string(index=False))"
      ],
      "metadata": {
        "id": "1IEPyztpdH6j",
        "colab": {
          "base_uri": "https://localhost:8080/"
        },
        "outputId": "6f467b9c-1fd2-4334-9663-20ac9ad1204c"
      },
      "execution_count": null,
      "outputs": [
        {
          "output_type": "stream",
          "name": "stdout",
          "text": [
            " Revenue_Id  UserId  Monthly_Revenue\n",
            "          1       1               10\n",
            "          2       2               12\n",
            "          3       3               15\n",
            "          4       4               15\n",
            "          5       5               10\n",
            "          6       6               12\n",
            "          7       7               15\n",
            "          8       8               10\n",
            "          9       9               15\n",
            "         10      10               12\n",
            "         11      11               10\n",
            "         12      12               12\n",
            "         13      13               15\n",
            "         14      14               10\n",
            "         15      15               15\n",
            "         16      16               12\n",
            "         17      17               10\n",
            "         18      18               15\n",
            "         19      19               12\n",
            "         20      20               10\n",
            "         21      21               12\n",
            "         22      22               10\n",
            "         23      23               15\n",
            "         24      24               15\n",
            "         25      25               10\n",
            "         26      26               12\n",
            "         27      27               10\n",
            "         28      28               15\n",
            "         29      29               12\n",
            "         30      30               10\n",
            "         31      31               12\n",
            "         32      32               10\n",
            "         33      33               15\n",
            "         34      34               15\n",
            "         35      35               10\n",
            "         36      36               12\n",
            "         37      37               10\n",
            "         38      38               15\n",
            "         39      39               12\n",
            "         40      40               10\n",
            "         41      41               12\n",
            "         42      42               10\n",
            "         43      43               15\n",
            "         44      44               15\n",
            "         45      45               10\n",
            "         46      46               12\n",
            "         47      47               10\n",
            "         48      48               15\n",
            "         49      49               12\n",
            "         50      50               10\n",
            "         51      51               12\n",
            "         52      52               10\n",
            "         53      53               15\n",
            "         54      54               15\n",
            "         55      55               10\n",
            "         56      56               12\n",
            "         57      57               10\n",
            "         58      58               15\n",
            "         59      59               12\n",
            "         60      60               10\n",
            "         61      61               12\n",
            "         62      62               10\n",
            "         63      63               15\n",
            "         64      64               15\n",
            "         65      65               10\n",
            "         66      66               12\n",
            "         67      67               10\n",
            "         68      68               15\n",
            "         69      69               12\n",
            "         70      70               10\n",
            "         71      71               10\n",
            "         72      72               10\n",
            "         73      73               15\n",
            "         74      74               12\n",
            "         75      75               10\n",
            "         76      76               10\n",
            "         77      77               12\n",
            "         78      78               15\n",
            "         79      79               15\n",
            "         80      80               10\n",
            "         81      81               12\n",
            "         82      82               15\n",
            "         83      83               10\n",
            "         84      84               15\n",
            "         85      85               12\n",
            "         86      86               10\n",
            "         87      87               12\n",
            "         88      88               15\n",
            "         89      89               10\n",
            "         90      90               15\n",
            "         91      91               12\n",
            "         92      92               10\n",
            "         93      93               15\n",
            "         94      94               12\n",
            "         95      95               10\n",
            "         96      96               12\n",
            "         97      97               10\n",
            "         98      98               15\n",
            "         99      99               15\n",
            "        100     100               10\n",
            "        101     101               12\n"
          ]
        }
      ]
    },
    {
      "cell_type": "code",
      "source": [
        "query = \"SELECT * FROM demographics\"\n",
        "\n",
        "result = conn.execute(query).fetchall()\n",
        "\n",
        "column_names = [column[1] for column in conn.execute('PRAGMA table_info(demographics)').fetchall()]\n",
        "\n",
        "df = pd.DataFrame(result, columns=column_names)\n",
        "\n",
        "print(df.to_string(index=False))"
      ],
      "metadata": {
        "id": "G92-w_haEiq3",
        "colab": {
          "base_uri": "https://localhost:8080/"
        },
        "outputId": "d9a72a22-5e1e-437c-8e40-dca059266cdc"
      },
      "execution_count": null,
      "outputs": [
        {
          "output_type": "stream",
          "name": "stdout",
          "text": [
            " Demographics_Id  UserId  Age_Group\n",
            "               1       1         28\n",
            "               2       2         35\n",
            "               3       3         42\n",
            "               4       4         51\n",
            "               5       5         33\n",
            "               6       6         29\n",
            "               7       7         46\n",
            "               8       8         39\n",
            "               9       9         37\n",
            "              10      10         44\n",
            "              11      11         31\n",
            "              12      12         45\n",
            "              13      13         48\n",
            "              14      14         27\n",
            "              15      15         38\n",
            "              16      16         36\n",
            "              17      17         30\n",
            "              18      18         43\n",
            "              19      19         32\n",
            "              20      20         41\n",
            "              21      21         26\n",
            "              22      22         34\n",
            "              23      23         49\n",
            "              24      24         31\n",
            "              25      25         40\n",
            "              26      26         29\n",
            "              27      27         47\n",
            "              28      28         33\n",
            "              29      29         36\n",
            "              30      30         42\n",
            "              31      31         28\n",
            "              32      32         37\n",
            "              33      33         41\n",
            "              34      34         29\n",
            "              35      35         39\n",
            "              36      36         35\n",
            "              37      37         45\n",
            "              38      38         32\n",
            "              39      39         27\n",
            "              40      40         48\n",
            "              41      41         31\n",
            "              42      42         40\n",
            "              43      43         36\n",
            "              44      44         29\n",
            "              45      45         43\n",
            "              46      46         34\n",
            "              47      47         39\n",
            "              48      48         32\n",
            "              49      49         28\n",
            "              50      50         45\n",
            "              51      51         30\n",
            "              52      52         37\n",
            "              53      53         41\n",
            "              54      54         29\n",
            "              55      55         39\n",
            "              56      56         36\n",
            "              57      57         46\n",
            "              58      58         34\n",
            "              59      59         27\n",
            "              60      60         42\n",
            "              61      61         28\n",
            "              62      62         37\n",
            "              63      63         41\n",
            "              64      64         29\n",
            "              65      65         40\n",
            "              66      66         29\n",
            "              67      67         47\n",
            "              68      68         33\n",
            "              69      69         36\n",
            "              70      70         41\n",
            "              71      71         27\n",
            "              72      72         31\n",
            "              73      73         28\n",
            "              74      74         41\n",
            "              75      75         28\n",
            "              76      76         51\n",
            "              77      77         45\n",
            "              78      78         49\n",
            "              79      79         43\n",
            "              80      80         43\n",
            "              81      81         37\n",
            "              82      82         35\n",
            "              83      83         46\n",
            "              84      84         32\n",
            "              85      85         37\n",
            "              86      86         29\n",
            "              87      87         45\n",
            "              88      88         47\n",
            "              89      89         39\n",
            "              90      90         49\n",
            "              91      91         39\n",
            "              92      92         39\n",
            "              93      93         35\n",
            "              94      94         44\n",
            "              95      95         34\n",
            "              96      96         32\n",
            "              97      97         29\n",
            "              98      98         31\n",
            "              99      99         29\n",
            "             100     100         35\n",
            "             101     101         46\n"
          ]
        }
      ]
    },
    {
      "cell_type": "code",
      "source": [
        "query = \"SELECT * FROM gender\"\n",
        "\n",
        "result = conn.execute(query).fetchall()\n",
        "\n",
        "column_names = [column[1] for column in conn.execute('PRAGMA table_info(gender)').fetchall()]\n",
        "\n",
        "df = pd.DataFrame(result, columns=column_names)\n",
        "\n",
        "print(df.to_string(index=False))"
      ],
      "metadata": {
        "colab": {
          "base_uri": "https://localhost:8080/"
        },
        "id": "NnDzyFsjMUYr",
        "outputId": "96f4d4cd-0565-4d81-b47a-5722704a49e0"
      },
      "execution_count": null,
      "outputs": [
        {
          "output_type": "stream",
          "name": "stdout",
          "text": [
            " Gender_Id  UserId Gender\n",
            "         1       1   Male\n",
            "         2       2 Female\n",
            "         3       3   None\n",
            "         4       4   None\n",
            "         5       5   None\n",
            "         6       6   None\n",
            "         7       7   Male\n",
            "         8       8 Female\n",
            "         9       9   Male\n",
            "        10      10 Female\n",
            "        11      11 Female\n",
            "        12      12   Male\n",
            "        13      13 Female\n",
            "        14      14   Male\n",
            "        15      15 Female\n",
            "        16      16   Male\n",
            "        17      17 Female\n",
            "        18      18   Male\n",
            "        19      19 Female\n",
            "        20      20   Male\n",
            "        21      21 Female\n",
            "        22      22   Male\n",
            "        23      23 Female\n",
            "        24      24   None\n",
            "        25      25 Female\n",
            "        26      26   Male\n",
            "        27      27 Female\n",
            "        28      28   Male\n",
            "        29      29   None\n",
            "        30      30   Male\n",
            "        31      31 Female\n",
            "        32      32   Male\n",
            "        33      33   None\n",
            "        34      34   Male\n",
            "        35      35 Female\n",
            "        36      36   None\n",
            "        37      37 Female\n",
            "        38      38   Male\n",
            "        39      39 Female\n",
            "        40      40   Male\n",
            "        41      41 Female\n",
            "        42      42   None\n",
            "        43      43 Female\n",
            "        44      44   Male\n",
            "        45      45   None\n",
            "        46      46   Male\n",
            "        47      47 Female\n",
            "        48      48   Male\n",
            "        49      49 Female\n",
            "        50      50   Male\n",
            "        51      51 Female\n",
            "        52      52   Male\n",
            "        53      53 Female\n",
            "        54      54   Male\n",
            "        55      55 Female\n",
            "        56      56   Male\n",
            "        57      57 Female\n",
            "        58      58   Male\n",
            "        59      59 Female\n",
            "        60      60   Male\n",
            "        61      61 Female\n",
            "        62      62   Male\n",
            "        63      63 Female\n",
            "        64      64   Male\n",
            "        65      65 Female\n",
            "        66      66   Male\n",
            "        67      67 Female\n",
            "        68      68   Male\n",
            "        69      69 Female\n",
            "        70      70   Male\n",
            "        71      71   Male\n",
            "        72      72 Female\n",
            "        73      73 Female\n",
            "        74      74 Female\n",
            "        75      75 Female\n",
            "        76      76 Female\n",
            "        77      77 Female\n",
            "        78      78   Male\n",
            "        79      79 Female\n",
            "        80      80   Male\n",
            "        81      81   Male\n",
            "        82      82   Male\n",
            "        83      83 Female\n",
            "        84      84   Male\n",
            "        85      85 Female\n",
            "        86      86 Female\n",
            "        87      87   Male\n",
            "        88      88   Male\n",
            "        89      89   Male\n",
            "        90      90 Female\n",
            "        91      91   Male\n",
            "        92      92   Male\n",
            "        93      93   Male\n",
            "        94      94   Male\n",
            "        95      95   Male\n",
            "        96      96   Male\n",
            "        97      97 Female\n",
            "        98      98 Female\n",
            "        99      99 Female\n",
            "       100     100   Male\n",
            "       101     101 Female\n"
          ]
        }
      ]
    },
    {
      "cell_type": "code",
      "source": [
        "grouped = df.groupby('Subscription_Type')['Monthly_Revenue'].sum().reset_index()\n",
        "print(grouped)"
      ],
      "metadata": {
        "colab": {
          "base_uri": "https://localhost:8080/"
        },
        "id": "OnEwAutu-DXu",
        "outputId": "083ce3f7-bb57-4bb3-96bf-cdd14f9f594f"
      },
      "execution_count": null,
      "outputs": [
        {
          "output_type": "stream",
          "name": "stdout",
          "text": [
            "  Subscription_Type  Monthly_Revenue\n",
            "0             Basic              390\n",
            "1           Premium              360\n",
            "2          Standard              480\n"
          ]
        }
      ]
    },
    {
      "cell_type": "code",
      "source": [
        "grouped_counts = df.groupby(['Subscription_Type', 'Device']).size().reset_index(name='Occurrences')\n",
        "print(grouped_counts)"
      ],
      "metadata": {
        "colab": {
          "base_uri": "https://localhost:8080/"
        },
        "id": "1ck0gdqb-TQu",
        "outputId": "40173b10-b456-4683-b6d5-a21a49e2fc86"
      },
      "execution_count": null,
      "outputs": [
        {
          "output_type": "stream",
          "name": "stdout",
          "text": [
            "   Subscription_Type      Device  Occurrences\n",
            "0              Basic      Laptop           11\n",
            "1              Basic    Smart TV            6\n",
            "2              Basic  Smartphone           15\n",
            "3              Basic      Tablet            7\n",
            "4            Premium      Laptop            8\n",
            "5            Premium    Smart TV            8\n",
            "6            Premium  Smartphone            6\n",
            "7            Premium      Tablet            8\n",
            "8           Standard      Laptop            7\n",
            "9           Standard    Smart TV            5\n",
            "10          Standard  Smartphone            9\n",
            "11          Standard      Tablet           11\n"
          ]
        }
      ]
    },
    {
      "cell_type": "markdown",
      "source": [
        "### **Join**\n",
        "\n",
        "---\n",
        "\n"
      ],
      "metadata": {
        "id": "ltwcL56HftWX"
      }
    },
    {
      "cell_type": "code",
      "source": [
        "query = \"\"\"\n",
        "SELECT gender.Gender, user.Country\n",
        "FROM gender\n",
        "Left JOIN user ON gender.UserId= user.User_Id;\n",
        "\"\"\"\n",
        "cursor = conn.execute(query)\n",
        "\n",
        "results = cursor.fetchall()\n",
        "df = pd.DataFrame(results, columns=[\"Gender\", \"Country\"])\n",
        "print(df.to_string(index=False))"
      ],
      "metadata": {
        "colab": {
          "base_uri": "https://localhost:8080/"
        },
        "id": "ue5uFByCCDvo",
        "outputId": "9ca6f4fc-0590-49f1-85b8-e39faf128317"
      },
      "execution_count": null,
      "outputs": [
        {
          "output_type": "stream",
          "name": "stdout",
          "text": [
            "Gender        Country\n",
            "  Male  United States\n",
            "Female         Canada\n",
            "  None United Kingdom\n",
            "  None      Australia\n",
            "  None        Germany\n",
            "  None         France\n",
            "  Male         Brazil\n",
            "Female         Mexico\n",
            "  Male          Spain\n",
            "Female          Italy\n",
            "Female  United States\n",
            "  Male         Canada\n",
            "Female United Kingdom\n",
            "  Male      Australia\n",
            "Female        Germany\n",
            "  Male         France\n",
            "Female         Brazil\n",
            "  Male         Mexico\n",
            "Female          Spain\n",
            "  Male          Italy\n",
            "Female  United States\n",
            "  Male         Canada\n",
            "Female United Kingdom\n",
            "  None      Australia\n",
            "Female        Germany\n",
            "  Male         France\n",
            "Female         Brazil\n",
            "  Male         Mexico\n",
            "  None          Spain\n",
            "  Male          Italy\n",
            "Female  United States\n",
            "  Male         Canada\n",
            "  None United Kingdom\n",
            "  Male      Australia\n",
            "Female        Germany\n",
            "  None         France\n",
            "Female         Brazil\n",
            "  Male         Mexico\n",
            "Female          Spain\n",
            "  Male          Italy\n",
            "Female  United States\n",
            "  None         Canada\n",
            "Female United Kingdom\n",
            "  Male      Australia\n",
            "  None        Germany\n",
            "  Male         France\n",
            "Female         Brazil\n",
            "  Male         Mexico\n",
            "Female          Spain\n",
            "  Male          Italy\n",
            "Female  United States\n",
            "  Male         Canada\n",
            "Female United Kingdom\n",
            "  Male      Australia\n",
            "Female        Germany\n",
            "  Male         France\n",
            "Female         Brazil\n",
            "  Male         Mexico\n",
            "Female          Spain\n",
            "  Male          Italy\n",
            "Female  United States\n",
            "  Male         Canada\n",
            "Female United Kingdom\n",
            "  Male      Australia\n",
            "Female        Germany\n",
            "  Male         France\n",
            "Female         Brazil\n",
            "  Male         Mexico\n",
            "Female          Spain\n",
            "  Male          Italy\n",
            "  Male  United States\n",
            "Female         Canada\n",
            "Female United Kingdom\n",
            "Female      Australia\n",
            "Female        Germany\n",
            "Female         France\n",
            "Female         Brazil\n",
            "  Male         Mexico\n",
            "Female          Spain\n",
            "  Male          Italy\n",
            "  Male  United States\n",
            "  Male         Canada\n",
            "Female United Kingdom\n",
            "  Male      Australia\n",
            "Female        Germany\n",
            "Female         France\n",
            "  Male         Brazil\n",
            "  Male         Mexico\n",
            "  Male          Spain\n",
            "Female          Italy\n",
            "  Male  United States\n",
            "  Male         Canada\n",
            "  Male United Kingdom\n",
            "  Male      Australia\n",
            "  Male        Germany\n",
            "  Male         France\n",
            "Female         Brazil\n",
            "Female         Mexico\n",
            "Female          Spain\n",
            "  Male          Italy\n",
            "Female  United States\n"
          ]
        }
      ]
    },
    {
      "cell_type": "code",
      "source": [
        "query = \"\"\"\n",
        "SELECT gender.Gender, user.Country, COUNT(*) as Count\n",
        "FROM gender\n",
        "INNER JOIN user ON gender.UserId = user.User_Id\n",
        "GROUP BY gender.Gender, user.Country;\n",
        "\"\"\"\n",
        "cursor = conn.execute(query)\n",
        "\n",
        "results = cursor.fetchall()\n",
        "df = pd.DataFrame(results, columns=[\"Gender\", \"Country\", \"Count\"])\n",
        "pivot_df = df.pivot_table(index='Gender', columns='Country', values='Count', aggfunc='sum', fill_value=0)\n",
        "print(pivot_df)"
      ],
      "metadata": {
        "colab": {
          "base_uri": "https://localhost:8080/"
        },
        "id": "UTc7PQlRlbY3",
        "outputId": "94afda56-69c7-4117-8be0-ff63ab1abb85"
      },
      "execution_count": null,
      "outputs": [
        {
          "output_type": "stream",
          "name": "stdout",
          "text": [
            "Country  Australia  Brazil  Canada  France  Germany  Italy  Mexico  Spain  \\\n",
            "Gender                                                                      \n",
            "Female           1       8       2       2        7      2       2      7   \n",
            "Male             7       2       7       6        1      8       8      2   \n",
            "\n",
            "Country  United Kingdom  United States  \n",
            "Gender                                  \n",
            "Female                7              7  \n",
            "Male                  1              4  \n"
          ]
        }
      ]
    },
    {
      "cell_type": "markdown",
      "source": [
        "\n",
        " **Alter Table**\n",
        "---\n",
        "\n"
      ],
      "metadata": {
        "id": "V1zlz2cjpYB8"
      }
    },
    {
      "cell_type": "code",
      "source": [
        "alter_query = \"ALTER TABLE revenue ADD COLUMN new_column Testing;\"\n",
        "conn.execute(alter_query)"
      ],
      "metadata": {
        "colab": {
          "base_uri": "https://localhost:8080/"
        },
        "id": "5_9ZCSyvnUVd",
        "outputId": "d95c4dd9-a131-4ef1-b00c-bb05fb3da17d"
      },
      "execution_count": null,
      "outputs": [
        {
          "output_type": "execute_result",
          "data": {
            "text/plain": [
              "<sqlite3.Cursor at 0x7d0323a0dcc0>"
            ]
          },
          "metadata": {},
          "execution_count": 21
        }
      ]
    },
    {
      "cell_type": "code",
      "source": [
        "column_to_delete = 'new_column'\n",
        "\n",
        "alter_query = f\"ALTER TABLE revenue DROP COLUMN {column_to_delete};\"\n",
        "conn.execute(alter_query)\n",
        "\n",
        "print(f\"Column '{column_to_delete}' deleted successfully.\")"
      ],
      "metadata": {
        "colab": {
          "base_uri": "https://localhost:8080/"
        },
        "id": "5Uws8F5lodi7",
        "outputId": "4f7848e3-9491-41fb-80a7-390de87ac8c7"
      },
      "execution_count": null,
      "outputs": [
        {
          "output_type": "stream",
          "name": "stdout",
          "text": [
            "Column 'new_column' deleted successfully.\n"
          ]
        }
      ]
    },
    {
      "cell_type": "markdown",
      "source": [
        "### **Deleting the Database**\n",
        "\n",
        "---\n",
        "\n"
      ],
      "metadata": {
        "id": "tQFZz9uijwZL"
      }
    },
    {
      "cell_type": "code",
      "source": [
        "import os\n",
        "database_name = 'DMBD.db'\n",
        "\n",
        "if os.path.exists(database_name):\n",
        "    !rm {database_name}\n",
        "    print(f\"The database '{database_name}' has been deleted.\")\n",
        "else:\n",
        "    print(f\"The database '{database_name}' does not exist.\")"
      ],
      "metadata": {
        "id": "UgYYO-zluuPV",
        "colab": {
          "base_uri": "https://localhost:8080/"
        },
        "outputId": "e109d6e5-c2b1-404f-91a8-40f4c133eccd"
      },
      "execution_count": null,
      "outputs": [
        {
          "output_type": "stream",
          "name": "stdout",
          "text": [
            "The database 'DMBD.db' has been deleted.\n"
          ]
        }
      ]
    }
  ]
}